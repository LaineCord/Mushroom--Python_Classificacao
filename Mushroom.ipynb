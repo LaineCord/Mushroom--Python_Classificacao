{
 "cells": [
  {
   "cell_type": "markdown",
   "id": "622e1496",
   "metadata": {},
   "source": [
    "\n",
    "# Mushroom\n"
   ]
  },
  {
   "cell_type": "markdown",
   "id": "4f5520e9",
   "metadata": {},
   "source": [
    "## 1. Sobre o Dataset"
   ]
  },
  {
   "cell_type": "markdown",
   "id": "38f21bc7",
   "metadata": {},
   "source": [
    "Este conjunto de dados inclui descrições de amostras hipotéticas correspondentes a 23 espécies de cogumelos com guelras na Família __Agaricus e Lepiota__ (pp. 500-525). Cada espécie é identificada como definitivamente comestível, definitivamente venenosa ou de comestibilidade desconhecida e não recomendada. Esta última classe foi combinada com a venenosa. O Guia afirma claramente que não há uma regra simples para determinar a comestibilidade de um cogumelo; nenhuma regra como ``folhetos três, deixe estar'' para Carvalho Venenoso e Hera."
   ]
  },
  {
   "cell_type": "markdown",
   "id": "dc2a0060",
   "metadata": {},
   "source": [
    "### 1. 2 Sobre a espécie Agaricus"
   ]
  },
  {
   "cell_type": "markdown",
   "id": "f7d6ef30",
   "metadata": {},
   "source": [
    "__Nome científico__: Agaricus sp.  \n",
    "__Família__: Agaricaceae  \n",
    "__Distribuição geográfica__: Cosmopolita  \n",
    "__Características morfológicas__: Apresenta basidioma macio de tamanho médio a grande; o chapéu é hemisférico inicialmente, depois convexo e finalmente mais ou menos aplanado ou ligeiramente deprimido, de cor esbranquiçada ou parda. O pé (estipe) é cilíndrico, tanto regular como engrossado ou atenuado para a base; sempre porta um anel, mais ou menos desenvolvido, que pode ser persistente ou caduco e se separa com facilidade da carne do chapéu.  \n",
    "__Características interessantes__: O gênero Agaricus é um importante gênero de cogumelos, contendo tanto espécies comestíveis como venenosas. Uma de suas espécies é o cogumelo comum (champignon de Paris, Agaricus bisporus). Algumas espécies, como Agaricus blazei, têm sido estudadas porque contém complexos de polissacarídeo-proteína que podem apresentar atividade no sistema imunológico humano entre outras utilidades medicinais. \n",
    "\n",
    "Fonte: https://museunacional.ufrj.br/hortobotanico/Fungos/Agaricus.html"
   ]
  },
  {
   "cell_type": "markdown",
   "id": "0e0ee685",
   "metadata": {},
   "source": [
    "### 1.3. Sobre a espécie Lepiota"
   ]
  },
  {
   "cell_type": "markdown",
   "id": "6a871ca4",
   "metadata": {},
   "source": [
    "__Nome cientigico__: Lepiota sp.  \n",
    "__Família__: Agaricaceae  \n",
    "__Características morfológicas__: Tipicamente têm aneis nos estipes, os quais, nas espécies maiores, são soltos podendo deslizar para cima e para baixo ao longo do pé. O píleo normalmente tem escamas: as cores do píleo, lamelas e escamas são importantes na determinação exacta da espécies, bem como por vezes o odor.  \n",
    "\n",
    "Fonte: https://www.inaturalist.org/taxa/58695-Lepiota"
   ]
  },
  {
   "cell_type": "markdown",
   "id": "1ff2c192",
   "metadata": {},
   "source": [
    "## 2. Objetivo do Estudo: Classificar Cogumelos tóxicos de comestíveis"
   ]
  },
  {
   "cell_type": "markdown",
   "id": "fad9b75d",
   "metadata": {},
   "source": [
    "## 3. Variáveis encontradas no Dataset"
   ]
  },
  {
   "cell_type": "code",
   "execution_count": 190,
   "id": "5ae49531",
   "metadata": {},
   "outputs": [
    {
     "data": {
      "text/html": [
       "<img src=\"https://elysios.com.br/wp-content/uploads/2021/07/Estrutura-basica-do-cogumelo-2.png\"/>"
      ],
      "text/plain": [
       "<IPython.core.display.Image object>"
      ]
     },
     "metadata": {},
     "output_type": "display_data"
    }
   ],
   "source": [
    "from IPython.display import Image, display\n",
    "\n",
    "display(Image(url='https://elysios.com.br/wp-content/uploads/2021/07/Estrutura-basica-do-cogumelo-2.png'))\n",
    "\n"
   ]
  },
  {
   "cell_type": "markdown",
   "id": "1cc93906",
   "metadata": {},
   "source": [
    "1. cap-shape (Formato do chapéu):         bell=b,conical=c,convex=x,flat=f, knobbed=k,sunken=s\n",
    "\n",
    "2. cap-surface (Superfície do chapéu):    fibrous=f,grooves=g,scaly=y,smooth=s\n",
    "\n",
    "3. cap-color (Cor do chapéu):             brown=n,buff=b,cinnamon=c,gray=g,green=r, pink=p,purple=u,red=e,white=w,yellow=y\n",
    "\n",
    "4. bruises? (Machucados):                 bruises=t,no=f\n",
    "\n",
    "5. odor (Odor):                           almond=a,anise=l,creosote=c,fishy=y,foul=f, musty=m,none=n,pungent=p,spicy=s\n",
    "\n",
    "6. gill-attachment (Fixação de Gueiras):  attached=a,descending=d,free=f,notched=n\n",
    "\n",
    "7. gill-spacing (Espaçamento de gueiras): close=c,crowded=w,distant=d\n",
    "\n",
    "8. gill-size (Tamanho de Gueiras):        broad=b,narrow=n\n",
    "\n",
    "9. gill-color (Cor de Gueiras):           black=k,brown=n,buff=b,chocolate=h,gray=g,green=r,orange=o,pink=p,purple=u,red=e, white=w,yellow=y\n",
    "\n",
    "10. stalk-shape (Formato de talo):        enlarging=e,tapering=t\n",
    "\n",
    "11. stalk-root (Raiz de talo):            bulbous=b,club=c,cup=u,equal=e, rhizomorphs=z,rooted=r,missing=?\n",
    "\n",
    "12. stalk-surface-above-ring (Suerfície de talo acima do anel): fibrous=f,scaly=y,silky=k,smooth=s\n",
    "\n",
    "13. stalk-surface-below-ring (Superfície de talo abaixo do anel): fibrous=f,scaly=y,silky=k,smooth=s\n",
    "\n",
    "14. stalk-color-above-ring (Cor de talo acima do anel):   brown=n,buff=b,cinnamon=c,gray=g,orange=o, pink=p,red=e,white=w,yellow=y\n",
    "\n",
    "15. stalk-color-below-ring (Cor-de-talo-abaixo-do-anel):   brown=n,buff=b,cinnamon=c,gray=g,orange=o, pink=p,red=e,white=w,yellow=y\n",
    "\n",
    "16. veil-type (Tipo de véu):               partial=p,universal=u\n",
    "\n",
    "17. veil-color (Cor de véu):               brown=n,orange=o,white=w,yellow=y\n",
    "\n",
    "18. ring-number (Número de anel):          none=n,one=o,two=t\n",
    "\n",
    "19. ring-type (Tipo de anel):              cobwebby=c,evanescent=e,flaring=f,large=l, none=n,pendant=p,sheathing=s,zone=z\n",
    "\n",
    "20. spore-print-color (cor de impressao de esporos):        black=k,brown=n,buff=b,chocolate=h,green=r, orange=o,purple=u,white=w,yell\n",
    "\n",
    "21. population (População):               abundant=a,clustered=c,numerous=n, scattered=s,several=v,solitary=y\n",
    "\n",
    "22. habitat (Habitat):                    grasses=g,leaves=l,meadows=m,paths=p, urban=u,waste=w,woods=d"
   ]
  },
  {
   "cell_type": "markdown",
   "id": "139d5a42",
   "metadata": {},
   "source": [
    "#### Variaveis Target "
   ]
  },
  {
   "cell_type": "markdown",
   "id": "7e736600",
   "metadata": {},
   "source": [
    "edible=e\n",
    "poisonous=p\n"
   ]
  },
  {
   "cell_type": "markdown",
   "id": "e176a432",
   "metadata": {},
   "source": [
    "## 4. Bibliotecas"
   ]
  },
  {
   "cell_type": "code",
   "execution_count": 139,
   "id": "032fca52",
   "metadata": {},
   "outputs": [],
   "source": [
    "import numpy as np\n",
    "import polars as pl\n",
    "import pandas as pd\n",
    "import matplotlib.pyplot as plt \n",
    "%matplotlib inline\n",
    "import seaborn as sns\n",
    "sns.set_style('whitegrid')"
   ]
  },
  {
   "cell_type": "code",
   "execution_count": 140,
   "id": "738a944d",
   "metadata": {},
   "outputs": [],
   "source": [
    "from sklearn.model_selection import train_test_split\n",
    "from sklearn.metrics import accuracy_score, classification_report, confusion_matrix, ConfusionMatrixDisplay\n",
    "from sklearn.preprocessing import StandardScaler #escala das features\n",
    "\n",
    "from sklearn.compose import make_column_transformer #pipeline com colunas de tipos diferentes\n",
    "from sklearn.preprocessing import OneHotEncoder, TargetEncoder\n",
    "from sklearn.pipeline import Pipeline\n",
    "from sklearn.feature_selection import SelectKBest, mutual_info_classif, f_regression #selecao de features\n",
    "from sklearn.impute import SimpleImputer\n",
    "from sklearn.compose import ColumnTransformer\n",
    "from sklearn.metrics import precision_score, recall_score, f1_score\n",
    "\n",
    "\n",
    "from sklearn.linear_model import LogisticRegression\n",
    "from sklearn.tree import DecisionTreeClassifier\n",
    "from sklearn.ensemble import AdaBoostClassifier,RandomForestClassifier\n",
    "from sklearn.neighbors import KNeighborsClassifier\n",
    "\n",
    "from sklearn.metrics import classification_report, roc_auc_score, roc_curve, auc\n",
    "from sklearn.model_selection import cross_val_score"
   ]
  },
  {
   "cell_type": "code",
   "execution_count": 141,
   "id": "ca1553ae",
   "metadata": {},
   "outputs": [],
   "source": [
    "import lightgbm as lgb\n",
    "from lightgbm import LGBMRegressor\n",
    "# Modelo\n",
    "lgb_model = LGBMRegressor()\n"
   ]
  },
  {
   "cell_type": "markdown",
   "id": "751c6768",
   "metadata": {},
   "source": [
    "## 5. Abrindo os Datasets"
   ]
  },
  {
   "cell_type": "code",
   "execution_count": 142,
   "id": "fa42ac4a",
   "metadata": {},
   "outputs": [],
   "source": [
    "from ucimlrepo import fetch_ucirepo \n",
    "  \n",
    "# fetch dataset \n",
    "mushroom = fetch_ucirepo(id=73) \n",
    "  \n",
    "# data (as pandas dataframes) \n",
    "X = mushroom.data.features \n",
    "y = mushroom.data.targets \n"
   ]
  },
  {
   "cell_type": "code",
   "execution_count": 143,
   "id": "7a179dfa",
   "metadata": {},
   "outputs": [
    {
     "name": "stdout",
     "output_type": "stream",
     "text": [
      "{'uci_id': 73, 'name': 'Mushroom', 'repository_url': 'https://archive.ics.uci.edu/dataset/73/mushroom', 'data_url': 'https://archive.ics.uci.edu/static/public/73/data.csv', 'abstract': 'From Audobon Society Field Guide; mushrooms described in terms of physical characteristics; classification: poisonous or edible', 'area': 'Biology', 'tasks': ['Classification'], 'characteristics': ['Multivariate'], 'num_instances': 8124, 'num_features': 22, 'feature_types': ['Categorical'], 'demographics': [], 'target_col': ['poisonous'], 'index_col': None, 'has_missing_values': 'yes', 'missing_values_symbol': 'NaN', 'year_of_dataset_creation': 1981, 'last_updated': 'Thu Aug 10 2023', 'dataset_doi': '10.24432/C5959T', 'creators': [], 'intro_paper': None, 'additional_info': {'summary': \"This data set includes descriptions of hypothetical samples corresponding to 23 species of gilled mushrooms in the Agaricus and Lepiota Family (pp. 500-525).  Each species is identified as definitely edible, definitely poisonous, or of unknown edibility and not recommended.  This latter class was combined with the poisonous one.  The Guide clearly states that there is no simple rule for determining the edibility of a mushroom; no rule like ``leaflets three, let it be'' for Poisonous Oak and Ivy.\", 'purpose': None, 'funded_by': None, 'instances_represent': None, 'recommended_data_splits': None, 'sensitive_data': None, 'preprocessing_description': None, 'variable_info': '     1. cap-shape:                bell=b,conical=c,convex=x,flat=f, knobbed=k,sunken=s\\r\\n     2. cap-surface:              fibrous=f,grooves=g,scaly=y,smooth=s\\r\\n     3. cap-color:                brown=n,buff=b,cinnamon=c,gray=g,green=r, pink=p,purple=u,red=e,white=w,yellow=y\\r\\n     4. bruises?:                 bruises=t,no=f\\r\\n     5. odor:                     almond=a,anise=l,creosote=c,fishy=y,foul=f, musty=m,none=n,pungent=p,spicy=s\\r\\n     6. gill-attachment:          attached=a,descending=d,free=f,notched=n\\r\\n     7. gill-spacing:             close=c,crowded=w,distant=d\\r\\n     8. gill-size:                broad=b,narrow=n\\r\\n     9. gill-color:               black=k,brown=n,buff=b,chocolate=h,gray=g, green=r,orange=o,pink=p,purple=u,red=e, white=w,yellow=y\\r\\n    10. stalk-shape:              enlarging=e,tapering=t\\r\\n    11. stalk-root:               bulbous=b,club=c,cup=u,equal=e, rhizomorphs=z,rooted=r,missing=?\\r\\n    12. stalk-surface-above-ring: fibrous=f,scaly=y,silky=k,smooth=s\\r\\n    13. stalk-surface-below-ring: fibrous=f,scaly=y,silky=k,smooth=s\\r\\n    14. stalk-color-above-ring:   brown=n,buff=b,cinnamon=c,gray=g,orange=o, pink=p,red=e,white=w,yellow=y\\r\\n    15. stalk-color-below-ring:   brown=n,buff=b,cinnamon=c,gray=g,orange=o, pink=p,red=e,white=w,yellow=y\\r\\n    16. veil-type:                partial=p,universal=u\\r\\n    17. veil-color:               brown=n,orange=o,white=w,yellow=y\\r\\n    18. ring-number:              none=n,one=o,two=t\\r\\n    19. ring-type:                cobwebby=c,evanescent=e,flaring=f,large=l, none=n,pendant=p,sheathing=s,zone=z\\r\\n    20. spore-print-color:        black=k,brown=n,buff=b,chocolate=h,green=r, orange=o,purple=u,white=w,yellow=y\\r\\n    21. population:               abundant=a,clustered=c,numerous=n, scattered=s,several=v,solitary=y\\r\\n    22. habitat:                  grasses=g,leaves=l,meadows=m,paths=p, urban=u,waste=w,woods=d', 'citation': None}}\n"
     ]
    }
   ],
   "source": [
    "# metadata \n",
    "print(mushroom.metadata)"
   ]
  },
  {
   "cell_type": "code",
   "execution_count": 144,
   "id": "2614e342",
   "metadata": {},
   "outputs": [
    {
     "data": {
      "text/plain": [
       "0                                                  None\n",
       "1     bell=b,conical=c,convex=x,flat=f, knobbed=k,su...\n",
       "2                  fibrous=f,grooves=g,scaly=y,smooth=s\n",
       "3     brown=n,buff=b,cinnamon=c,gray=g,green=r, pink...\n",
       "4                                        bruises=t,no=f\n",
       "5     almond=a,anise=l,creosote=c,fishy=y,foul=f, mu...\n",
       "6              attached=a,descending=d,free=f,notched=n\n",
       "7                           close=c,crowded=w,distant=d\n",
       "8                                      broad=b,narrow=n\n",
       "9     black=k,brown=n,buff=b,chocolate=h,gray=g, gre...\n",
       "10                               enlarging=e,tapering=t\n",
       "11    bulbous=b,club=c,cup=u,equal=e, rhizomorphs=z,...\n",
       "12                   fibrous=f,scaly=y,silky=k,smooth=s\n",
       "13                   fibrous=f,scaly=y,silky=k,smooth=s\n",
       "14    brown=n,buff=b,cinnamon=c,gray=g,orange=o, pin...\n",
       "15    brown=n,buff=b,cinnamon=c,gray=g,orange=o, pin...\n",
       "16                                partial=p,universal=u\n",
       "17                    brown=n,orange=o,white=w,yellow=y\n",
       "18                                   none=n,one=o,two=t\n",
       "19    cobwebby=c,evanescent=e,flaring=f,large=l, non...\n",
       "20    black=k,brown=n,buff=b,chocolate=h,green=r, or...\n",
       "21    abundant=a,clustered=c,numerous=n, scattered=s...\n",
       "22    grasses=g,leaves=l,meadows=m,paths=p, urban=u,...\n",
       "Name: description, dtype: object"
      ]
     },
     "execution_count": 144,
     "metadata": {},
     "output_type": "execute_result"
    }
   ],
   "source": [
    "# variable information \n",
    "mushroom.variables['description']"
   ]
  },
  {
   "cell_type": "markdown",
   "id": "e31e9c98",
   "metadata": {},
   "source": [
    "### 5.1 Alvo (Target)"
   ]
  },
  {
   "cell_type": "code",
   "execution_count": 145,
   "id": "43f2e23c",
   "metadata": {},
   "outputs": [
    {
     "data": {
      "text/plain": [
       "0       p\n",
       "1       e\n",
       "2       e\n",
       "3       p\n",
       "4       e\n",
       "       ..\n",
       "8119    e\n",
       "8120    e\n",
       "8121    e\n",
       "8122    p\n",
       "8123    e\n",
       "Name: poisonous, Length: 8124, dtype: object"
      ]
     },
     "execution_count": 145,
     "metadata": {},
     "output_type": "execute_result"
    }
   ],
   "source": [
    "y = mushroom.data.targets['poisonous']\n",
    "y"
   ]
  },
  {
   "cell_type": "markdown",
   "id": "a760e606",
   "metadata": {},
   "source": [
    "### 5.2 Dataset  de treino"
   ]
  },
  {
   "cell_type": "code",
   "execution_count": 146,
   "id": "75304929",
   "metadata": {},
   "outputs": [
    {
     "data": {
      "text/html": [
       "<div>\n",
       "<style scoped>\n",
       "    .dataframe tbody tr th:only-of-type {\n",
       "        vertical-align: middle;\n",
       "    }\n",
       "\n",
       "    .dataframe tbody tr th {\n",
       "        vertical-align: top;\n",
       "    }\n",
       "\n",
       "    .dataframe thead th {\n",
       "        text-align: right;\n",
       "    }\n",
       "</style>\n",
       "<table border=\"1\" class=\"dataframe\">\n",
       "  <thead>\n",
       "    <tr style=\"text-align: right;\">\n",
       "      <th></th>\n",
       "      <th>cap-shape</th>\n",
       "      <th>cap-surface</th>\n",
       "      <th>cap-color</th>\n",
       "      <th>bruises</th>\n",
       "      <th>odor</th>\n",
       "      <th>gill-attachment</th>\n",
       "      <th>gill-spacing</th>\n",
       "      <th>gill-size</th>\n",
       "      <th>gill-color</th>\n",
       "      <th>stalk-shape</th>\n",
       "      <th>...</th>\n",
       "      <th>stalk-surface-below-ring</th>\n",
       "      <th>stalk-color-above-ring</th>\n",
       "      <th>stalk-color-below-ring</th>\n",
       "      <th>veil-type</th>\n",
       "      <th>veil-color</th>\n",
       "      <th>ring-number</th>\n",
       "      <th>ring-type</th>\n",
       "      <th>spore-print-color</th>\n",
       "      <th>population</th>\n",
       "      <th>habitat</th>\n",
       "    </tr>\n",
       "  </thead>\n",
       "  <tbody>\n",
       "    <tr>\n",
       "      <th>0</th>\n",
       "      <td>x</td>\n",
       "      <td>s</td>\n",
       "      <td>n</td>\n",
       "      <td>t</td>\n",
       "      <td>p</td>\n",
       "      <td>f</td>\n",
       "      <td>c</td>\n",
       "      <td>n</td>\n",
       "      <td>k</td>\n",
       "      <td>e</td>\n",
       "      <td>...</td>\n",
       "      <td>s</td>\n",
       "      <td>w</td>\n",
       "      <td>w</td>\n",
       "      <td>p</td>\n",
       "      <td>w</td>\n",
       "      <td>o</td>\n",
       "      <td>p</td>\n",
       "      <td>k</td>\n",
       "      <td>s</td>\n",
       "      <td>u</td>\n",
       "    </tr>\n",
       "    <tr>\n",
       "      <th>1</th>\n",
       "      <td>x</td>\n",
       "      <td>s</td>\n",
       "      <td>y</td>\n",
       "      <td>t</td>\n",
       "      <td>a</td>\n",
       "      <td>f</td>\n",
       "      <td>c</td>\n",
       "      <td>b</td>\n",
       "      <td>k</td>\n",
       "      <td>e</td>\n",
       "      <td>...</td>\n",
       "      <td>s</td>\n",
       "      <td>w</td>\n",
       "      <td>w</td>\n",
       "      <td>p</td>\n",
       "      <td>w</td>\n",
       "      <td>o</td>\n",
       "      <td>p</td>\n",
       "      <td>n</td>\n",
       "      <td>n</td>\n",
       "      <td>g</td>\n",
       "    </tr>\n",
       "    <tr>\n",
       "      <th>2</th>\n",
       "      <td>b</td>\n",
       "      <td>s</td>\n",
       "      <td>w</td>\n",
       "      <td>t</td>\n",
       "      <td>l</td>\n",
       "      <td>f</td>\n",
       "      <td>c</td>\n",
       "      <td>b</td>\n",
       "      <td>n</td>\n",
       "      <td>e</td>\n",
       "      <td>...</td>\n",
       "      <td>s</td>\n",
       "      <td>w</td>\n",
       "      <td>w</td>\n",
       "      <td>p</td>\n",
       "      <td>w</td>\n",
       "      <td>o</td>\n",
       "      <td>p</td>\n",
       "      <td>n</td>\n",
       "      <td>n</td>\n",
       "      <td>m</td>\n",
       "    </tr>\n",
       "    <tr>\n",
       "      <th>3</th>\n",
       "      <td>x</td>\n",
       "      <td>y</td>\n",
       "      <td>w</td>\n",
       "      <td>t</td>\n",
       "      <td>p</td>\n",
       "      <td>f</td>\n",
       "      <td>c</td>\n",
       "      <td>n</td>\n",
       "      <td>n</td>\n",
       "      <td>e</td>\n",
       "      <td>...</td>\n",
       "      <td>s</td>\n",
       "      <td>w</td>\n",
       "      <td>w</td>\n",
       "      <td>p</td>\n",
       "      <td>w</td>\n",
       "      <td>o</td>\n",
       "      <td>p</td>\n",
       "      <td>k</td>\n",
       "      <td>s</td>\n",
       "      <td>u</td>\n",
       "    </tr>\n",
       "    <tr>\n",
       "      <th>4</th>\n",
       "      <td>x</td>\n",
       "      <td>s</td>\n",
       "      <td>g</td>\n",
       "      <td>f</td>\n",
       "      <td>n</td>\n",
       "      <td>f</td>\n",
       "      <td>w</td>\n",
       "      <td>b</td>\n",
       "      <td>k</td>\n",
       "      <td>t</td>\n",
       "      <td>...</td>\n",
       "      <td>s</td>\n",
       "      <td>w</td>\n",
       "      <td>w</td>\n",
       "      <td>p</td>\n",
       "      <td>w</td>\n",
       "      <td>o</td>\n",
       "      <td>e</td>\n",
       "      <td>n</td>\n",
       "      <td>a</td>\n",
       "      <td>g</td>\n",
       "    </tr>\n",
       "    <tr>\n",
       "      <th>...</th>\n",
       "      <td>...</td>\n",
       "      <td>...</td>\n",
       "      <td>...</td>\n",
       "      <td>...</td>\n",
       "      <td>...</td>\n",
       "      <td>...</td>\n",
       "      <td>...</td>\n",
       "      <td>...</td>\n",
       "      <td>...</td>\n",
       "      <td>...</td>\n",
       "      <td>...</td>\n",
       "      <td>...</td>\n",
       "      <td>...</td>\n",
       "      <td>...</td>\n",
       "      <td>...</td>\n",
       "      <td>...</td>\n",
       "      <td>...</td>\n",
       "      <td>...</td>\n",
       "      <td>...</td>\n",
       "      <td>...</td>\n",
       "      <td>...</td>\n",
       "    </tr>\n",
       "    <tr>\n",
       "      <th>8119</th>\n",
       "      <td>k</td>\n",
       "      <td>s</td>\n",
       "      <td>n</td>\n",
       "      <td>f</td>\n",
       "      <td>n</td>\n",
       "      <td>a</td>\n",
       "      <td>c</td>\n",
       "      <td>b</td>\n",
       "      <td>y</td>\n",
       "      <td>e</td>\n",
       "      <td>...</td>\n",
       "      <td>s</td>\n",
       "      <td>o</td>\n",
       "      <td>o</td>\n",
       "      <td>p</td>\n",
       "      <td>o</td>\n",
       "      <td>o</td>\n",
       "      <td>p</td>\n",
       "      <td>b</td>\n",
       "      <td>c</td>\n",
       "      <td>l</td>\n",
       "    </tr>\n",
       "    <tr>\n",
       "      <th>8120</th>\n",
       "      <td>x</td>\n",
       "      <td>s</td>\n",
       "      <td>n</td>\n",
       "      <td>f</td>\n",
       "      <td>n</td>\n",
       "      <td>a</td>\n",
       "      <td>c</td>\n",
       "      <td>b</td>\n",
       "      <td>y</td>\n",
       "      <td>e</td>\n",
       "      <td>...</td>\n",
       "      <td>s</td>\n",
       "      <td>o</td>\n",
       "      <td>o</td>\n",
       "      <td>p</td>\n",
       "      <td>n</td>\n",
       "      <td>o</td>\n",
       "      <td>p</td>\n",
       "      <td>b</td>\n",
       "      <td>v</td>\n",
       "      <td>l</td>\n",
       "    </tr>\n",
       "    <tr>\n",
       "      <th>8121</th>\n",
       "      <td>f</td>\n",
       "      <td>s</td>\n",
       "      <td>n</td>\n",
       "      <td>f</td>\n",
       "      <td>n</td>\n",
       "      <td>a</td>\n",
       "      <td>c</td>\n",
       "      <td>b</td>\n",
       "      <td>n</td>\n",
       "      <td>e</td>\n",
       "      <td>...</td>\n",
       "      <td>s</td>\n",
       "      <td>o</td>\n",
       "      <td>o</td>\n",
       "      <td>p</td>\n",
       "      <td>o</td>\n",
       "      <td>o</td>\n",
       "      <td>p</td>\n",
       "      <td>b</td>\n",
       "      <td>c</td>\n",
       "      <td>l</td>\n",
       "    </tr>\n",
       "    <tr>\n",
       "      <th>8122</th>\n",
       "      <td>k</td>\n",
       "      <td>y</td>\n",
       "      <td>n</td>\n",
       "      <td>f</td>\n",
       "      <td>y</td>\n",
       "      <td>f</td>\n",
       "      <td>c</td>\n",
       "      <td>n</td>\n",
       "      <td>b</td>\n",
       "      <td>t</td>\n",
       "      <td>...</td>\n",
       "      <td>k</td>\n",
       "      <td>w</td>\n",
       "      <td>w</td>\n",
       "      <td>p</td>\n",
       "      <td>w</td>\n",
       "      <td>o</td>\n",
       "      <td>e</td>\n",
       "      <td>w</td>\n",
       "      <td>v</td>\n",
       "      <td>l</td>\n",
       "    </tr>\n",
       "    <tr>\n",
       "      <th>8123</th>\n",
       "      <td>x</td>\n",
       "      <td>s</td>\n",
       "      <td>n</td>\n",
       "      <td>f</td>\n",
       "      <td>n</td>\n",
       "      <td>a</td>\n",
       "      <td>c</td>\n",
       "      <td>b</td>\n",
       "      <td>y</td>\n",
       "      <td>e</td>\n",
       "      <td>...</td>\n",
       "      <td>s</td>\n",
       "      <td>o</td>\n",
       "      <td>o</td>\n",
       "      <td>p</td>\n",
       "      <td>o</td>\n",
       "      <td>o</td>\n",
       "      <td>p</td>\n",
       "      <td>o</td>\n",
       "      <td>c</td>\n",
       "      <td>l</td>\n",
       "    </tr>\n",
       "  </tbody>\n",
       "</table>\n",
       "<p>8124 rows × 22 columns</p>\n",
       "</div>"
      ],
      "text/plain": [
       "     cap-shape cap-surface cap-color bruises odor gill-attachment  \\\n",
       "0            x           s         n       t    p               f   \n",
       "1            x           s         y       t    a               f   \n",
       "2            b           s         w       t    l               f   \n",
       "3            x           y         w       t    p               f   \n",
       "4            x           s         g       f    n               f   \n",
       "...        ...         ...       ...     ...  ...             ...   \n",
       "8119         k           s         n       f    n               a   \n",
       "8120         x           s         n       f    n               a   \n",
       "8121         f           s         n       f    n               a   \n",
       "8122         k           y         n       f    y               f   \n",
       "8123         x           s         n       f    n               a   \n",
       "\n",
       "     gill-spacing gill-size gill-color stalk-shape  ...  \\\n",
       "0               c         n          k           e  ...   \n",
       "1               c         b          k           e  ...   \n",
       "2               c         b          n           e  ...   \n",
       "3               c         n          n           e  ...   \n",
       "4               w         b          k           t  ...   \n",
       "...           ...       ...        ...         ...  ...   \n",
       "8119            c         b          y           e  ...   \n",
       "8120            c         b          y           e  ...   \n",
       "8121            c         b          n           e  ...   \n",
       "8122            c         n          b           t  ...   \n",
       "8123            c         b          y           e  ...   \n",
       "\n",
       "     stalk-surface-below-ring stalk-color-above-ring stalk-color-below-ring  \\\n",
       "0                           s                      w                      w   \n",
       "1                           s                      w                      w   \n",
       "2                           s                      w                      w   \n",
       "3                           s                      w                      w   \n",
       "4                           s                      w                      w   \n",
       "...                       ...                    ...                    ...   \n",
       "8119                        s                      o                      o   \n",
       "8120                        s                      o                      o   \n",
       "8121                        s                      o                      o   \n",
       "8122                        k                      w                      w   \n",
       "8123                        s                      o                      o   \n",
       "\n",
       "     veil-type veil-color ring-number ring-type spore-print-color population  \\\n",
       "0            p          w           o         p                 k          s   \n",
       "1            p          w           o         p                 n          n   \n",
       "2            p          w           o         p                 n          n   \n",
       "3            p          w           o         p                 k          s   \n",
       "4            p          w           o         e                 n          a   \n",
       "...        ...        ...         ...       ...               ...        ...   \n",
       "8119         p          o           o         p                 b          c   \n",
       "8120         p          n           o         p                 b          v   \n",
       "8121         p          o           o         p                 b          c   \n",
       "8122         p          w           o         e                 w          v   \n",
       "8123         p          o           o         p                 o          c   \n",
       "\n",
       "     habitat  \n",
       "0          u  \n",
       "1          g  \n",
       "2          m  \n",
       "3          u  \n",
       "4          g  \n",
       "...      ...  \n",
       "8119       l  \n",
       "8120       l  \n",
       "8121       l  \n",
       "8122       l  \n",
       "8123       l  \n",
       "\n",
       "[8124 rows x 22 columns]"
      ]
     },
     "execution_count": 146,
     "metadata": {},
     "output_type": "execute_result"
    }
   ],
   "source": [
    "X"
   ]
  },
  {
   "cell_type": "code",
   "execution_count": 147,
   "id": "e489be12",
   "metadata": {},
   "outputs": [
    {
     "data": {
      "text/plain": [
       "Index(['cap-shape', 'cap-surface', 'cap-color', 'bruises', 'odor',\n",
       "       'gill-attachment', 'gill-spacing', 'gill-size', 'gill-color',\n",
       "       'stalk-shape', 'stalk-root', 'stalk-surface-above-ring',\n",
       "       'stalk-surface-below-ring', 'stalk-color-above-ring',\n",
       "       'stalk-color-below-ring', 'veil-type', 'veil-color', 'ring-number',\n",
       "       'ring-type', 'spore-print-color', 'population', 'habitat'],\n",
       "      dtype='object')"
      ]
     },
     "execution_count": 147,
     "metadata": {},
     "output_type": "execute_result"
    }
   ],
   "source": [
    "X.columns"
   ]
  },
  {
   "cell_type": "code",
   "execution_count": 148,
   "id": "5a63ffc4",
   "metadata": {},
   "outputs": [
    {
     "data": {
      "text/plain": [
       "cap-shape                      0\n",
       "cap-surface                    0\n",
       "cap-color                      0\n",
       "bruises                        0\n",
       "odor                           0\n",
       "gill-attachment                0\n",
       "gill-spacing                   0\n",
       "gill-size                      0\n",
       "gill-color                     0\n",
       "stalk-shape                    0\n",
       "stalk-root                  2480\n",
       "stalk-surface-above-ring       0\n",
       "stalk-surface-below-ring       0\n",
       "stalk-color-above-ring         0\n",
       "stalk-color-below-ring         0\n",
       "veil-type                      0\n",
       "veil-color                     0\n",
       "ring-number                    0\n",
       "ring-type                      0\n",
       "spore-print-color              0\n",
       "population                     0\n",
       "habitat                        0\n",
       "dtype: int64"
      ]
     },
     "execution_count": 148,
     "metadata": {},
     "output_type": "execute_result"
    }
   ],
   "source": [
    "X.isna().sum()"
   ]
  },
  {
   "cell_type": "code",
   "execution_count": 149,
   "id": "38f92c46",
   "metadata": {},
   "outputs": [
    {
     "data": {
      "text/plain": [
       "0       1\n",
       "1       0\n",
       "2       0\n",
       "3       1\n",
       "4       0\n",
       "       ..\n",
       "8119    0\n",
       "8120    0\n",
       "8121    0\n",
       "8122    1\n",
       "8123    0\n",
       "Name: poisonous, Length: 8124, dtype: int64"
      ]
     },
     "execution_count": 149,
     "metadata": {},
     "output_type": "execute_result"
    }
   ],
   "source": [
    "y = mushroom.data.targets['poisonous'].map({'e': 0, 'p': 1})\n",
    "y"
   ]
  },
  {
   "cell_type": "markdown",
   "id": "f7b1029f",
   "metadata": {},
   "source": [
    "## 6. Treinando o modelo"
   ]
  },
  {
   "cell_type": "code",
   "execution_count": 150,
   "id": "b95dea8a",
   "metadata": {},
   "outputs": [],
   "source": [
    "X_train, X_test, y_train, y_test = train_test_split(X, y, test_size=0.2, random_state=42)"
   ]
  },
  {
   "cell_type": "code",
   "execution_count": 151,
   "id": "3c0bf757",
   "metadata": {
    "scrolled": true
   },
   "outputs": [
    {
     "data": {
      "text/html": [
       "<div>\n",
       "<style scoped>\n",
       "    .dataframe tbody tr th:only-of-type {\n",
       "        vertical-align: middle;\n",
       "    }\n",
       "\n",
       "    .dataframe tbody tr th {\n",
       "        vertical-align: top;\n",
       "    }\n",
       "\n",
       "    .dataframe thead th {\n",
       "        text-align: right;\n",
       "    }\n",
       "</style>\n",
       "<table border=\"1\" class=\"dataframe\">\n",
       "  <thead>\n",
       "    <tr style=\"text-align: right;\">\n",
       "      <th></th>\n",
       "      <th>cap-shape</th>\n",
       "      <th>cap-surface</th>\n",
       "      <th>cap-color</th>\n",
       "      <th>bruises</th>\n",
       "      <th>odor</th>\n",
       "      <th>gill-attachment</th>\n",
       "      <th>gill-spacing</th>\n",
       "      <th>gill-size</th>\n",
       "      <th>gill-color</th>\n",
       "      <th>stalk-shape</th>\n",
       "      <th>...</th>\n",
       "      <th>stalk-surface-below-ring</th>\n",
       "      <th>stalk-color-above-ring</th>\n",
       "      <th>stalk-color-below-ring</th>\n",
       "      <th>veil-type</th>\n",
       "      <th>veil-color</th>\n",
       "      <th>ring-number</th>\n",
       "      <th>ring-type</th>\n",
       "      <th>spore-print-color</th>\n",
       "      <th>population</th>\n",
       "      <th>habitat</th>\n",
       "    </tr>\n",
       "  </thead>\n",
       "  <tbody>\n",
       "    <tr>\n",
       "      <th>1971</th>\n",
       "      <td>f</td>\n",
       "      <td>f</td>\n",
       "      <td>n</td>\n",
       "      <td>f</td>\n",
       "      <td>n</td>\n",
       "      <td>f</td>\n",
       "      <td>w</td>\n",
       "      <td>b</td>\n",
       "      <td>h</td>\n",
       "      <td>t</td>\n",
       "      <td>...</td>\n",
       "      <td>f</td>\n",
       "      <td>w</td>\n",
       "      <td>w</td>\n",
       "      <td>p</td>\n",
       "      <td>w</td>\n",
       "      <td>o</td>\n",
       "      <td>e</td>\n",
       "      <td>n</td>\n",
       "      <td>s</td>\n",
       "      <td>g</td>\n",
       "    </tr>\n",
       "    <tr>\n",
       "      <th>6654</th>\n",
       "      <td>f</td>\n",
       "      <td>s</td>\n",
       "      <td>e</td>\n",
       "      <td>f</td>\n",
       "      <td>y</td>\n",
       "      <td>f</td>\n",
       "      <td>c</td>\n",
       "      <td>n</td>\n",
       "      <td>b</td>\n",
       "      <td>t</td>\n",
       "      <td>...</td>\n",
       "      <td>s</td>\n",
       "      <td>p</td>\n",
       "      <td>p</td>\n",
       "      <td>p</td>\n",
       "      <td>w</td>\n",
       "      <td>o</td>\n",
       "      <td>e</td>\n",
       "      <td>w</td>\n",
       "      <td>v</td>\n",
       "      <td>l</td>\n",
       "    </tr>\n",
       "    <tr>\n",
       "      <th>5606</th>\n",
       "      <td>x</td>\n",
       "      <td>y</td>\n",
       "      <td>n</td>\n",
       "      <td>f</td>\n",
       "      <td>f</td>\n",
       "      <td>f</td>\n",
       "      <td>c</td>\n",
       "      <td>n</td>\n",
       "      <td>b</td>\n",
       "      <td>t</td>\n",
       "      <td>...</td>\n",
       "      <td>s</td>\n",
       "      <td>w</td>\n",
       "      <td>p</td>\n",
       "      <td>p</td>\n",
       "      <td>w</td>\n",
       "      <td>o</td>\n",
       "      <td>e</td>\n",
       "      <td>w</td>\n",
       "      <td>v</td>\n",
       "      <td>l</td>\n",
       "    </tr>\n",
       "    <tr>\n",
       "      <th>3332</th>\n",
       "      <td>f</td>\n",
       "      <td>y</td>\n",
       "      <td>g</td>\n",
       "      <td>t</td>\n",
       "      <td>n</td>\n",
       "      <td>f</td>\n",
       "      <td>c</td>\n",
       "      <td>b</td>\n",
       "      <td>n</td>\n",
       "      <td>t</td>\n",
       "      <td>...</td>\n",
       "      <td>s</td>\n",
       "      <td>g</td>\n",
       "      <td>p</td>\n",
       "      <td>p</td>\n",
       "      <td>w</td>\n",
       "      <td>o</td>\n",
       "      <td>p</td>\n",
       "      <td>n</td>\n",
       "      <td>y</td>\n",
       "      <td>d</td>\n",
       "    </tr>\n",
       "    <tr>\n",
       "      <th>6988</th>\n",
       "      <td>f</td>\n",
       "      <td>s</td>\n",
       "      <td>e</td>\n",
       "      <td>f</td>\n",
       "      <td>s</td>\n",
       "      <td>f</td>\n",
       "      <td>c</td>\n",
       "      <td>n</td>\n",
       "      <td>b</td>\n",
       "      <td>t</td>\n",
       "      <td>...</td>\n",
       "      <td>s</td>\n",
       "      <td>p</td>\n",
       "      <td>p</td>\n",
       "      <td>p</td>\n",
       "      <td>w</td>\n",
       "      <td>o</td>\n",
       "      <td>e</td>\n",
       "      <td>w</td>\n",
       "      <td>v</td>\n",
       "      <td>l</td>\n",
       "    </tr>\n",
       "    <tr>\n",
       "      <th>...</th>\n",
       "      <td>...</td>\n",
       "      <td>...</td>\n",
       "      <td>...</td>\n",
       "      <td>...</td>\n",
       "      <td>...</td>\n",
       "      <td>...</td>\n",
       "      <td>...</td>\n",
       "      <td>...</td>\n",
       "      <td>...</td>\n",
       "      <td>...</td>\n",
       "      <td>...</td>\n",
       "      <td>...</td>\n",
       "      <td>...</td>\n",
       "      <td>...</td>\n",
       "      <td>...</td>\n",
       "      <td>...</td>\n",
       "      <td>...</td>\n",
       "      <td>...</td>\n",
       "      <td>...</td>\n",
       "      <td>...</td>\n",
       "      <td>...</td>\n",
       "    </tr>\n",
       "    <tr>\n",
       "      <th>7374</th>\n",
       "      <td>k</td>\n",
       "      <td>s</td>\n",
       "      <td>e</td>\n",
       "      <td>f</td>\n",
       "      <td>f</td>\n",
       "      <td>f</td>\n",
       "      <td>c</td>\n",
       "      <td>n</td>\n",
       "      <td>b</td>\n",
       "      <td>t</td>\n",
       "      <td>...</td>\n",
       "      <td>s</td>\n",
       "      <td>p</td>\n",
       "      <td>w</td>\n",
       "      <td>p</td>\n",
       "      <td>w</td>\n",
       "      <td>o</td>\n",
       "      <td>e</td>\n",
       "      <td>w</td>\n",
       "      <td>v</td>\n",
       "      <td>p</td>\n",
       "    </tr>\n",
       "    <tr>\n",
       "      <th>1149</th>\n",
       "      <td>f</td>\n",
       "      <td>s</td>\n",
       "      <td>n</td>\n",
       "      <td>f</td>\n",
       "      <td>n</td>\n",
       "      <td>f</td>\n",
       "      <td>w</td>\n",
       "      <td>b</td>\n",
       "      <td>h</td>\n",
       "      <td>t</td>\n",
       "      <td>...</td>\n",
       "      <td>s</td>\n",
       "      <td>w</td>\n",
       "      <td>w</td>\n",
       "      <td>p</td>\n",
       "      <td>w</td>\n",
       "      <td>o</td>\n",
       "      <td>e</td>\n",
       "      <td>k</td>\n",
       "      <td>a</td>\n",
       "      <td>g</td>\n",
       "    </tr>\n",
       "    <tr>\n",
       "      <th>4999</th>\n",
       "      <td>x</td>\n",
       "      <td>y</td>\n",
       "      <td>n</td>\n",
       "      <td>f</td>\n",
       "      <td>f</td>\n",
       "      <td>f</td>\n",
       "      <td>c</td>\n",
       "      <td>n</td>\n",
       "      <td>b</td>\n",
       "      <td>t</td>\n",
       "      <td>...</td>\n",
       "      <td>k</td>\n",
       "      <td>p</td>\n",
       "      <td>p</td>\n",
       "      <td>p</td>\n",
       "      <td>w</td>\n",
       "      <td>o</td>\n",
       "      <td>e</td>\n",
       "      <td>w</td>\n",
       "      <td>v</td>\n",
       "      <td>p</td>\n",
       "    </tr>\n",
       "    <tr>\n",
       "      <th>7497</th>\n",
       "      <td>k</td>\n",
       "      <td>y</td>\n",
       "      <td>n</td>\n",
       "      <td>f</td>\n",
       "      <td>y</td>\n",
       "      <td>f</td>\n",
       "      <td>c</td>\n",
       "      <td>n</td>\n",
       "      <td>b</td>\n",
       "      <td>t</td>\n",
       "      <td>...</td>\n",
       "      <td>k</td>\n",
       "      <td>p</td>\n",
       "      <td>p</td>\n",
       "      <td>p</td>\n",
       "      <td>w</td>\n",
       "      <td>o</td>\n",
       "      <td>e</td>\n",
       "      <td>w</td>\n",
       "      <td>v</td>\n",
       "      <td>p</td>\n",
       "    </tr>\n",
       "    <tr>\n",
       "      <th>3341</th>\n",
       "      <td>x</td>\n",
       "      <td>f</td>\n",
       "      <td>y</td>\n",
       "      <td>f</td>\n",
       "      <td>f</td>\n",
       "      <td>f</td>\n",
       "      <td>c</td>\n",
       "      <td>b</td>\n",
       "      <td>p</td>\n",
       "      <td>e</td>\n",
       "      <td>...</td>\n",
       "      <td>k</td>\n",
       "      <td>n</td>\n",
       "      <td>n</td>\n",
       "      <td>p</td>\n",
       "      <td>w</td>\n",
       "      <td>o</td>\n",
       "      <td>l</td>\n",
       "      <td>h</td>\n",
       "      <td>y</td>\n",
       "      <td>p</td>\n",
       "    </tr>\n",
       "  </tbody>\n",
       "</table>\n",
       "<p>1625 rows × 22 columns</p>\n",
       "</div>"
      ],
      "text/plain": [
       "     cap-shape cap-surface cap-color bruises odor gill-attachment  \\\n",
       "1971         f           f         n       f    n               f   \n",
       "6654         f           s         e       f    y               f   \n",
       "5606         x           y         n       f    f               f   \n",
       "3332         f           y         g       t    n               f   \n",
       "6988         f           s         e       f    s               f   \n",
       "...        ...         ...       ...     ...  ...             ...   \n",
       "7374         k           s         e       f    f               f   \n",
       "1149         f           s         n       f    n               f   \n",
       "4999         x           y         n       f    f               f   \n",
       "7497         k           y         n       f    y               f   \n",
       "3341         x           f         y       f    f               f   \n",
       "\n",
       "     gill-spacing gill-size gill-color stalk-shape  ...  \\\n",
       "1971            w         b          h           t  ...   \n",
       "6654            c         n          b           t  ...   \n",
       "5606            c         n          b           t  ...   \n",
       "3332            c         b          n           t  ...   \n",
       "6988            c         n          b           t  ...   \n",
       "...           ...       ...        ...         ...  ...   \n",
       "7374            c         n          b           t  ...   \n",
       "1149            w         b          h           t  ...   \n",
       "4999            c         n          b           t  ...   \n",
       "7497            c         n          b           t  ...   \n",
       "3341            c         b          p           e  ...   \n",
       "\n",
       "     stalk-surface-below-ring stalk-color-above-ring stalk-color-below-ring  \\\n",
       "1971                        f                      w                      w   \n",
       "6654                        s                      p                      p   \n",
       "5606                        s                      w                      p   \n",
       "3332                        s                      g                      p   \n",
       "6988                        s                      p                      p   \n",
       "...                       ...                    ...                    ...   \n",
       "7374                        s                      p                      w   \n",
       "1149                        s                      w                      w   \n",
       "4999                        k                      p                      p   \n",
       "7497                        k                      p                      p   \n",
       "3341                        k                      n                      n   \n",
       "\n",
       "     veil-type veil-color ring-number ring-type spore-print-color population  \\\n",
       "1971         p          w           o         e                 n          s   \n",
       "6654         p          w           o         e                 w          v   \n",
       "5606         p          w           o         e                 w          v   \n",
       "3332         p          w           o         p                 n          y   \n",
       "6988         p          w           o         e                 w          v   \n",
       "...        ...        ...         ...       ...               ...        ...   \n",
       "7374         p          w           o         e                 w          v   \n",
       "1149         p          w           o         e                 k          a   \n",
       "4999         p          w           o         e                 w          v   \n",
       "7497         p          w           o         e                 w          v   \n",
       "3341         p          w           o         l                 h          y   \n",
       "\n",
       "     habitat  \n",
       "1971       g  \n",
       "6654       l  \n",
       "5606       l  \n",
       "3332       d  \n",
       "6988       l  \n",
       "...      ...  \n",
       "7374       p  \n",
       "1149       g  \n",
       "4999       p  \n",
       "7497       p  \n",
       "3341       p  \n",
       "\n",
       "[1625 rows x 22 columns]"
      ]
     },
     "execution_count": 151,
     "metadata": {},
     "output_type": "execute_result"
    }
   ],
   "source": [
    "X_test"
   ]
  },
  {
   "cell_type": "code",
   "execution_count": 152,
   "id": "ad43f880",
   "metadata": {},
   "outputs": [
    {
     "data": {
      "text/plain": [
       "1971    0\n",
       "6654    1\n",
       "5606    1\n",
       "3332    0\n",
       "6988    1\n",
       "       ..\n",
       "7374    1\n",
       "1149    0\n",
       "4999    1\n",
       "7497    1\n",
       "3341    1\n",
       "Name: poisonous, Length: 1625, dtype: int64"
      ]
     },
     "execution_count": 152,
     "metadata": {},
     "output_type": "execute_result"
    }
   ],
   "source": [
    "y_test"
   ]
  },
  {
   "cell_type": "markdown",
   "id": "82c5a403",
   "metadata": {},
   "source": [
    "#### LogisticRegression"
   ]
  },
  {
   "cell_type": "code",
   "execution_count": 153,
   "id": "a196a5e0",
   "metadata": {},
   "outputs": [
    {
     "data": {
      "text/plain": [
       "array([0, 1, 1, ..., 1, 1, 1], dtype=int64)"
      ]
     },
     "execution_count": 153,
     "metadata": {},
     "output_type": "execute_result"
    }
   ],
   "source": [
    "# Definação das colunas categóricas\n",
    "categorical_columns = ['cap-shape', 'cap-surface', 'cap-color', 'bruises', 'odor',\n",
    "       'gill-attachment', 'gill-spacing', 'gill-size', 'gill-color',\n",
    "       'stalk-shape', 'stalk-root', 'stalk-surface-above-ring',\n",
    "       'stalk-surface-below-ring', 'stalk-color-above-ring',\n",
    "       'stalk-color-below-ring', 'veil-type', 'veil-color', 'ring-number',\n",
    "       'ring-type', 'spore-print-color', 'population', 'habitat'] \n",
    "\n",
    "\n",
    "# Transformador categórico\n",
    "categorical_transformer = Pipeline(steps=[\n",
    "    (\"encoder\", OneHotEncoder(handle_unknown=\"ignore\"))\n",
    "])\n",
    "\n",
    "# Pré-processador\n",
    "preprocessor = ColumnTransformer(\n",
    "    transformers=[\n",
    "        (\"cat\", categorical_transformer, categorical_columns)\n",
    "    ]\n",
    ")\n",
    "\n",
    "# Pipeline final com Logistic Regression\n",
    "pipelinelog = Pipeline(steps=[\n",
    "    (\"preprocessor\", preprocessor),\n",
    "    (\"feature_selection\", SelectKBest(score_func=mutual_info_classif, k=10)),\n",
    "    (\"model\", LogisticRegression(max_iter=1000))\n",
    "])\n",
    "\n",
    "# Treina o modelo\n",
    "pipelinelog.fit(X_train, y_train)\n",
    "\n",
    "#Faz previsões\n",
    "y_predLogistic = pipelinelog.predict(X_test)\n",
    "y_predLogistic"
   ]
  },
  {
   "cell_type": "markdown",
   "id": "f00869ce",
   "metadata": {},
   "source": [
    "### DecisionTreeClassifier"
   ]
  },
  {
   "cell_type": "code",
   "execution_count": 154,
   "id": "ee618ff7",
   "metadata": {},
   "outputs": [
    {
     "data": {
      "text/plain": [
       "array([0, 1, 1, ..., 1, 1, 1], dtype=int64)"
      ]
     },
     "execution_count": 154,
     "metadata": {},
     "output_type": "execute_result"
    }
   ],
   "source": [
    "# Definação das colunas categóricas\n",
    "categorical_columns = ['cap-shape', 'cap-surface', 'cap-color', 'bruises', 'odor',\n",
    "       'gill-attachment', 'gill-spacing', 'gill-size', 'gill-color',\n",
    "       'stalk-shape', 'stalk-root', 'stalk-surface-above-ring',\n",
    "       'stalk-surface-below-ring', 'stalk-color-above-ring',\n",
    "       'stalk-color-below-ring', 'veil-type', 'veil-color', 'ring-number',\n",
    "       'ring-type', 'spore-print-color', 'population', 'habitat'] \n",
    "\n",
    "\n",
    "# Transformador categórico\n",
    "categorical_transformer = Pipeline(steps=[\n",
    "    (\"encoder\", OneHotEncoder(handle_unknown=\"ignore\"))\n",
    "])\n",
    "\n",
    "# Pré-processador\n",
    "preprocessor = ColumnTransformer(\n",
    "    transformers=[\n",
    "        (\"cat\", categorical_transformer, categorical_columns)\n",
    "    ]\n",
    ")\n",
    "\n",
    "# Pipeline final com  DecisionTreeClassifier\n",
    "pipelinetree = Pipeline(steps=[\n",
    "    (\"preprocessor\", preprocessor),\n",
    "    (\"feature_selection\", SelectKBest(score_func=mutual_info_classif, k=10)),\n",
    "    (\"model\", DecisionTreeClassifier())\n",
    "])\n",
    "\n",
    "# Treina o modelo\n",
    "pipelinetree.fit(X_train, y_train)\n",
    "\n",
    "#Faz previsões\n",
    "y_predDecisionTree = pipelinetree.predict(X_test)\n",
    "y_predDecisionTree\n",
    "\n"
   ]
  },
  {
   "cell_type": "markdown",
   "id": "3bdc2d51",
   "metadata": {},
   "source": [
    "### KNeighborsClassifier"
   ]
  },
  {
   "cell_type": "code",
   "execution_count": 155,
   "id": "a12597b3",
   "metadata": {},
   "outputs": [
    {
     "data": {
      "text/plain": [
       "array([0, 1, 1, ..., 1, 1, 1], dtype=int64)"
      ]
     },
     "execution_count": 155,
     "metadata": {},
     "output_type": "execute_result"
    }
   ],
   "source": [
    "# Definação das colunas categóricas\n",
    "categorical_columns = ['cap-shape', 'cap-surface', 'cap-color', 'bruises', 'odor',\n",
    "       'gill-attachment', 'gill-spacing', 'gill-size', 'gill-color',\n",
    "       'stalk-shape', 'stalk-root', 'stalk-surface-above-ring',\n",
    "       'stalk-surface-below-ring', 'stalk-color-above-ring',\n",
    "       'stalk-color-below-ring', 'veil-type', 'veil-color', 'ring-number',\n",
    "       'ring-type', 'spore-print-color', 'population', 'habitat'] \n",
    "\n",
    "# Transformador categórico\n",
    "categorical_transformer = Pipeline(steps=[\n",
    "    (\"encoder\", OneHotEncoder(handle_unknown=\"ignore\"))\n",
    "])\n",
    "\n",
    "# Pré-processador\n",
    "preprocessor = ColumnTransformer(\n",
    "    transformers=[\n",
    "        (\"cat\", categorical_transformer, categorical_columns)\n",
    "    ]\n",
    ")\n",
    "\n",
    "# Pipeline final com KNeighborsClassifier\n",
    "pipelineKNG = Pipeline(steps=[\n",
    "    (\"preprocessor\", preprocessor),\n",
    "    (\"feature_selection\", SelectKBest(score_func=mutual_info_classif, k=10)),\n",
    "    (\"model\", KNeighborsClassifier())\n",
    "])\n",
    "\n",
    "# Treina o modelo\n",
    "pipelineKNG.fit(X_train, y_train)\n",
    "\n",
    "#Faz previsões\n",
    "y_predKNG = pipelineKNG.predict(X_test)\n",
    "y_predKNG"
   ]
  },
  {
   "cell_type": "markdown",
   "id": "eacc9dcd",
   "metadata": {},
   "source": [
    "## 7. Avaliando o Modelo de Classificação"
   ]
  },
  {
   "cell_type": "markdown",
   "id": "d64a1c44",
   "metadata": {},
   "source": [
    "### 7.1 Matriz Confusão"
   ]
  },
  {
   "cell_type": "code",
   "execution_count": 156,
   "id": "b48d9079",
   "metadata": {},
   "outputs": [
    {
     "data": {
      "image/png": "[encoded data removed]",
      "text/plain": [
       "<Figure size 1800x600 with 6 Axes>"
      ]
     },
     "metadata": {},
     "output_type": "display_data"
    }
   ],
   "source": [
    "\n",
    "models = {\n",
    "   \"Logistic Regression\": pipelinelog,\n",
    "    \"Decision Tree\": pipelinetree,\n",
    "    \"K-Neighbors\": pipelineKNG\n",
    "}\n",
    "\n",
    "# Criar subplots\n",
    "fig, axes = plt.subplots(1, 3, figsize=(18, 6)) \n",
    "\n",
    "# Treinar e plotar a matriz de confusão para cada modelo\n",
    "for i, (model_name, model) in enumerate(models.items()):\n",
    "    model.fit(X_train, y_train)\n",
    "    y_pred = model.predict(X_test)\n",
    "    \n",
    "    # Calcular a matriz de confusão\n",
    "    cm = confusion_matrix(y_test, y_pred)\n",
    "    \n",
    "    # Exibir a matriz de confusão\n",
    "    disp = ConfusionMatrixDisplay(confusion_matrix=cm, display_labels=model.classes_)\n",
    "    disp.plot(ax=axes[i], cmap=plt.cm.Blues, values_format='d')\n",
    "    axes[i].set_title(f'Matriz de Confusão - {model_name}')\n",
    "\n",
    "\n",
    "plt.tight_layout()\n",
    "plt.show()"
   ]
  },
  {
   "cell_type": "markdown",
   "id": "f8242533",
   "metadata": {},
   "source": [
    "O modelo está predominantemente com altos Verdadeiros Positivos (TP) e Verdadeiros Negativos (TN) o que indica que está classificando corretamente a maioria dos casos."
   ]
  },
  {
   "cell_type": "markdown",
   "id": "1d52f16d",
   "metadata": {},
   "source": [
    "### 7.2 Métricas de desempenho"
   ]
  },
  {
   "cell_type": "code",
   "execution_count": 161,
   "id": "e1989823",
   "metadata": {},
   "outputs": [
    {
     "data": {
      "text/html": [
       "<div>\n",
       "<style scoped>\n",
       "    .dataframe tbody tr th:only-of-type {\n",
       "        vertical-align: middle;\n",
       "    }\n",
       "\n",
       "    .dataframe tbody tr th {\n",
       "        vertical-align: top;\n",
       "    }\n",
       "\n",
       "    .dataframe thead th {\n",
       "        text-align: right;\n",
       "    }\n",
       "</style>\n",
       "<table border=\"1\" class=\"dataframe\">\n",
       "  <thead>\n",
       "    <tr style=\"text-align: right;\">\n",
       "      <th></th>\n",
       "      <th>Model</th>\n",
       "      <th>Accuracy</th>\n",
       "      <th>Precision</th>\n",
       "      <th>Recall</th>\n",
       "      <th>F1-Score</th>\n",
       "    </tr>\n",
       "  </thead>\n",
       "  <tbody>\n",
       "    <tr>\n",
       "      <th>0</th>\n",
       "      <td>LogisticRegression</td>\n",
       "      <td>0.973538</td>\n",
       "      <td>0.965952</td>\n",
       "      <td>0.979540</td>\n",
       "      <td>0.972698</td>\n",
       "    </tr>\n",
       "    <tr>\n",
       "      <th>1</th>\n",
       "      <td>DecisionTreeClassifier</td>\n",
       "      <td>0.974154</td>\n",
       "      <td>0.965995</td>\n",
       "      <td>0.980818</td>\n",
       "      <td>0.973350</td>\n",
       "    </tr>\n",
       "    <tr>\n",
       "      <th>2</th>\n",
       "      <td>KNeighborsClassifier</td>\n",
       "      <td>0.974154</td>\n",
       "      <td>0.965995</td>\n",
       "      <td>0.980818</td>\n",
       "      <td>0.973350</td>\n",
       "    </tr>\n",
       "  </tbody>\n",
       "</table>\n",
       "</div>"
      ],
      "text/plain": [
       "                    Model  Accuracy  Precision    Recall  F1-Score\n",
       "0      LogisticRegression  0.973538   0.965952  0.979540  0.972698\n",
       "1  DecisionTreeClassifier  0.974154   0.965995  0.980818  0.973350\n",
       "2    KNeighborsClassifier  0.974154   0.965995  0.980818  0.973350"
      ]
     },
     "execution_count": 161,
     "metadata": {},
     "output_type": "execute_result"
    }
   ],
   "source": [
    "# Dicionário com as previsões dos modelos\n",
    "models_predictions = {\n",
    "    \"LogisticRegression\": y_predLogistic,\n",
    "    \"DecisionTreeClassifier\": y_predDecisionTree,\n",
    "    \"KNeighborsClassifier\": y_predKNG,\n",
    "}\n",
    "\n",
    "\n",
    "results = []\n",
    "\n",
    "\n",
    "for model_name, y_pred in models_predictions.items():\n",
    "    accuracy = accuracy_score(y_test, y_pred)\n",
    "    precision = precision_score(y_test, y_pred, average='binary')\n",
    "    recall = recall_score(y_test, y_pred, average='binary')\n",
    "    f1 = f1_score(y_test, y_pred, average='binary')\n",
    "    \n",
    "    \n",
    "    results.append({\n",
    "        \"Model\": model_name,\n",
    "        \"Accuracy\": accuracy,\n",
    "        \"Precision\": precision,\n",
    "        \"Recall\": recall,\n",
    "        \"F1-Score\": f1\n",
    "    })\n",
    "\n",
    "\n",
    "results_df = pd.DataFrame(results)\n",
    "\n",
    "\n",
    "results_df"
   ]
  },
  {
   "cell_type": "markdown",
   "id": "e73484a6",
   "metadata": {},
   "source": [
    "- A Acuracia(Accuracy: mede a proporção total de previsões corretas. No caso do modelo em questão, a acuracia esta em 97% em todos os casos, o que demonstra uma boa previsibilidade. Apesar da acuracia já indicar uma boa previsibilidade é importante análisar outras métricas para entender se, de fato, o modelo esta se comportando bem.\n",
    "- A precisão(Precision): mede a proporção de verdadeiros positivos entre todos os previstos pelo modelo, ou seja, o quão provavel é em classificar corretamente as previsões. Neste caso, o modelo demonstra uma grande capacidade, visto que esta em 96%.  \n",
    "- A Revocação(Recall): mede a força do modelo em prever um resultado positivo. No modelo em questão, a previsão esta em 98%, o que indica uma ótima previsibilidade.  \n",
    "- F1-Score: mede o quanto a precisão e a revocação estão sendo eficientes. No caso em questão vemos uma boa eficiência entre os dois casos.  "
   ]
  },
  {
   "cell_type": "markdown",
   "id": "ebf40888",
   "metadata": {},
   "source": [
    "### 7.3 Distribuição das Classes"
   ]
  },
  {
   "cell_type": "code",
   "execution_count": 94,
   "id": "8e07b0e3",
   "metadata": {},
   "outputs": [
    {
     "data": {
      "text/plain": [
       "0    3365\n",
       "1    3134\n",
       "Name: poisonous, dtype: int64"
      ]
     },
     "execution_count": 94,
     "metadata": {},
     "output_type": "execute_result"
    }
   ],
   "source": [
    "y_train.value_counts()"
   ]
  },
  {
   "cell_type": "markdown",
   "id": "b4398f8c",
   "metadata": {},
   "source": [
    "A distribuição de classes tem uma diferença de 3%, o que esta dentro do aceitável para o desenvolvimento de um modelo de classificação."
   ]
  },
  {
   "cell_type": "code",
   "execution_count": 95,
   "id": "d7fe6619",
   "metadata": {},
   "outputs": [
    {
     "data": {
      "text/plain": [
       "0    843\n",
       "1    782\n",
       "Name: poisonous, dtype: int64"
      ]
     },
     "execution_count": 95,
     "metadata": {},
     "output_type": "execute_result"
    }
   ],
   "source": [
    "y_test.value_counts()"
   ]
  },
  {
   "cell_type": "markdown",
   "id": "4efdfeb4",
   "metadata": {},
   "source": [
    "### 7.4 Validação Cruzada"
   ]
  },
  {
   "cell_type": "code",
   "execution_count": 97,
   "id": "3e342748",
   "metadata": {},
   "outputs": [
    {
     "name": "stdout",
     "output_type": "stream",
     "text": [
      "Acurácia média: 0.9794\n",
      "Desvio padrão da acurácia: 0.0029\n"
     ]
    }
   ],
   "source": [
    "# Definação das colunas categóricas\n",
    "categorical_columns = ['cap-shape', 'cap-surface', 'cap-color', 'bruises', 'odor',\n",
    "       'gill-attachment', 'gill-spacing', 'gill-size', 'gill-color',\n",
    "       'stalk-shape', 'stalk-root', 'stalk-surface-above-ring',\n",
    "       'stalk-surface-below-ring', 'stalk-color-above-ring',\n",
    "       'stalk-color-below-ring', 'veil-type', 'veil-color', 'ring-number',\n",
    "       'ring-type', 'spore-print-color', 'population', 'habitat'] \n",
    "\n",
    "\n",
    "# Transformador categórico\n",
    "categorical_transformer = Pipeline(steps=[\n",
    "    (\"encoder\", OneHotEncoder(handle_unknown=\"ignore\"))\n",
    "])\n",
    "\n",
    "# Pré-processador\n",
    "preprocessor = ColumnTransformer(\n",
    "    transformers=[\n",
    "        (\"cat\", categorical_transformer, categorical_columns)\n",
    "    ]\n",
    ")\n",
    "\n",
    "# Pipeline final com RandomForestClassifier\n",
    "pipeline = Pipeline(steps=[\n",
    "    (\"preprocessor\", preprocessor),\n",
    "    (\"feature_selection\", SelectKBest(score_func=mutual_info_classif, k=10)),\n",
    "    (\"model\", RandomForestClassifier())\n",
    "])\n",
    "\n",
    "\n",
    "# Realizar validação cruzada\n",
    "scores = cross_val_score(pipeline, X_train, y_train, cv=5)\n",
    "\n",
    "# Exibir resultados\n",
    "print(f'Acurácia média: {scores.mean():.4f}')\n",
    "print(f'Desvio padrão da acurácia: {scores.std():.4f}')\n",
    "\n"
   ]
  },
  {
   "cell_type": "markdown",
   "id": "d1686dd0",
   "metadata": {},
   "source": [
    "A validação cruzada tem como função testar o desempenho do modelo criado. Aqui vemos que o modelo criado está desempenhando bem, logo que a acuracia esta em 97% e o desvio padrão em 0.0029."
   ]
  },
  {
   "cell_type": "markdown",
   "id": "036ab53e",
   "metadata": {},
   "source": [
    "### 7.5 Curva ROC e AUC"
   ]
  },
  {
   "cell_type": "code",
   "execution_count": 159,
   "id": "e9b83fed",
   "metadata": {},
   "outputs": [
    {
     "data": {
      "image/png": "[encoded data removed]",
      "text/plain": [
       "<Figure size 1800x600 with 3 Axes>"
      ]
     },
     "metadata": {},
     "output_type": "display_data"
    }
   ],
   "source": [
    "\n",
    "models = {\n",
    "    \"Logistic Regression\": pipelinelog,\n",
    "    \"Decision Tree\": pipelinetree,\n",
    "    \"K-Neighbors\": pipelineKNG\n",
    "}\n",
    "\n",
    "# Criar subplots\n",
    "fig, axes = plt.subplots(1, 3, figsize=(18, 6))  # 1 linha, 3 colunas\n",
    "\n",
    "# Treinar e plotar ROC para cada modelo\n",
    "for i, (model_name, model) in enumerate(models.items()):\n",
    "    model.fit(X_train, y_train)\n",
    "    y_prob = model.predict_proba(X_test)[:, 1]\n",
    "    \n",
    "    # Calcular as métricas da curva ROC\n",
    "    fpr, tpr, _ = roc_curve(y_test, y_prob)\n",
    "    roc_auc = auc(fpr, tpr)\n",
    "    \n",
    "    # Plotar a curva ROC\n",
    "    axes[i].plot(fpr, tpr, color='blue', lw=2, label=f'AUC = {roc_auc:.2f}')\n",
    "    axes[i].plot([0, 1], [0, 1], color='gray', linestyle='--')\n",
    "    axes[i].set_xlim([0.0, 1.0])\n",
    "    axes[i].set_ylim([0.0, 1.0])\n",
    "    axes[i].set_xlabel('Taxa de Falsos Positivos (FP)')\n",
    "    axes[i].set_ylabel('Taxa de Verdadeiros Positivos (TP)')\n",
    "    axes[i].set_title(f'Curva ROC - {model_name}')\n",
    "    axes[i].legend(loc=\"lower right\")\n",
    "\n",
    "\n",
    "plt.tight_layout()\n",
    "plt.show()"
   ]
  },
  {
   "cell_type": "markdown",
   "id": "b21b49fb",
   "metadata": {},
   "source": [
    "O modelo possui uma métrica de área sob a curva (AUC) entre 0.98 - 0.99, correspondendo a um classificador relativamente bom, logo que quanto mais próximo de 1, melhor ele é."
   ]
  },
  {
   "cell_type": "markdown",
   "id": "8c936968",
   "metadata": {},
   "source": [
    "## 8. Considerações Finais"
   ]
  },
  {
   "cell_type": "markdown",
   "id": "b0558c60",
   "metadata": {},
   "source": [
    "Foram utilizados 3 classificadores: LogisticRegression,DecisionTreeClassifier e KNeighborsClassifier. Em todos os casos houve um ótimo desempenho para todas as metricas: Accuracy, Precision, Recall e F1-Score. Também foi realizada uma validação cruzada, com uma  acurácia média de 0.9794 e desvio padrão da acurácia e 0.0029. Sobre a curva ROC e AUC, também foram vistos ótimos desempenhos, logo que quanto mais proximo da esquerda e AUC mais proximo de 1, melhor desempenho ele possui."
   ]
  },
  {
   "cell_type": "markdown",
   "id": "2497b49a",
   "metadata": {},
   "source": [
    "## 8. Fonte do DataSet "
   ]
  },
  {
   "cell_type": "markdown",
   "id": "5d96f217",
   "metadata": {},
   "source": [
    "https://archive.ics.uci.edu/dataset/73/mushroom"
   ]
  }
 ],
 "metadata": {
  "kernelspec": {
   "display_name": "Python 3 (ipykernel)",
   "language": "python",
   "name": "python3"
  },
  "language_info": {
   "codemirror_mode": {
    "name": "ipython",
    "version": 3
   },
   "file_extension": ".py",
   "mimetype": "text/x-python",
   "name": "python",
   "nbconvert_exporter": "python",
   "pygments_lexer": "ipython3",
   "version": "3.9.13"
  }
 },
 "nbformat": 4,
 "nbformat_minor": 5
}
